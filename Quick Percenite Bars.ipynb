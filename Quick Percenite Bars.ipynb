{
 "cells": [
  {
   "cell_type": "code",
   "execution_count": 1,
   "id": "2658d696",
   "metadata": {},
   "outputs": [],
   "source": [
    "import seaborn as sns\n",
    "import pandas as pd\n",
    "from scipy import stats\n",
    "\n"
   ]
  },
  {
   "cell_type": "code",
   "execution_count": 4,
   "id": "9db1e226",
   "metadata": {},
   "outputs": [
    {
     "data": {
      "image/png": "[encoded data removed]",
      "text/plain": [
       "<Figure size 432x288 with 1 Axes>"
      ]
     },
     "metadata": {
      "needs_background": "light"
     },
     "output_type": "display_data"
    }
   ],
   "source": [
    "path = 'https://raw.githubusercontent.com/griffisben/Soccer-Analyses/main/FBRef-Data/Final%20FBRef%202021-2022.csv'\n",
    "df = pd.read_csv(path)\n",
    "df = df.fillna(0)\n",
    "\n",
    "# Filter df on minutes, competition, and position\n",
    "dfFilt = df[df['Min']>=900]\n",
    "dfFilt = dfFilt[dfFilt['Comp']==\"eng Premier League\"]\n",
    "dfFilt = dfFilt[dfFilt['Main Position'].str.contains('Centre-Forward')]\n",
    "\n",
    "# get your focal player's data\n",
    "player = df[df['Player']=='Harry Kane']\n",
    "\n",
    "# the variables you want on the plot\n",
    "stat1 = \"GoalsPer90\"\n",
    "stat2 = \"xGPer90\"\n",
    "stat3 = \"AssistsPer90\"\n",
    "stat4 = \"xAPer90\"\n",
    "stat5 = \"DrbSucc%\"\n",
    "stat6 = \"G/SoT\"\n",
    "\n",
    "#Get the specific player's value\n",
    "x1 = player[stat1].values[0]\n",
    "x2 = player[stat2].values[0]\n",
    "x3 = player[stat3].values[0]\n",
    "x4 = player[stat4].values[0]\n",
    "x5 = player[stat5].values[0]\n",
    "x6 = player[stat6].values[0]\n",
    "\n",
    "\n",
    "pct1 = stats.percentileofscore(dfFilt[stat1],x1)\n",
    "pct2 = stats.percentileofscore(dfFilt[stat2],x2)\n",
    "pct3 = stats.percentileofscore(dfFilt[stat3],x3)\n",
    "pct4 = stats.percentileofscore(dfFilt[stat4],x4)\n",
    "pct5 = stats.percentileofscore(dfFilt[stat5],x5)\n",
    "pct6 = stats.percentileofscore(dfFilt[stat6],x6)\n",
    "\n",
    "bar_df = pd.DataFrame({'Metric': [stat1,stat2,stat3,stat4,stat5,stat6],\n",
    "                      'Percentile': [pct1,pct2,pct3,pct4,pct5,pct6],\n",
    "                      'Value': [x1,x2,x3,x4,x5,x6]})\n",
    "\n",
    "\n",
    "ax = sns.barplot(y='Metric', x='Percentile', data=bar_df,\n",
    "                color='navy', ec='navy', lw=.5, alpha=.2)\n",
    "\n",
    "for i in range(len(bar_df)):\n",
    "    ax.annotate('%.2f' %bar_df['Value'][i], xy=(bar_df['Percentile'][i]-1, i), ha='right', va='center', color='navy')\n"
   ]
  }
 ],
 "metadata": {
  "kernelspec": {
   "display_name": "Python 3 (ipykernel)",
   "language": "python",
   "name": "python3"
  },
  "language_info": {
   "codemirror_mode": {
    "name": "ipython",
    "version": 3
   },
   "file_extension": ".py",
   "mimetype": "text/x-python",
   "name": "python",
   "nbconvert_exporter": "python",
   "pygments_lexer": "ipython3",
   "version": "3.9.7"
  }
 },
 "nbformat": 4,
 "nbformat_minor": 5
}
