{
 "cells": [
  {
   "cell_type": "code",
   "execution_count": null,
   "id": "05756625",
   "metadata": {},
   "outputs": [],
   "source": [
    "# this is for 4 images, but you can easily add as many as you want\n",
    "\n",
    "file1 = \"a1.png\"\n",
    "file2 = \"a2.png\"\n",
    "file3 = \"a3.png\"\n",
    "file4 = \"a4.png\"\n",
    "\n",
    "from PIL import Image\n",
    "\n",
    "def merge(file1, file2, file3, file4): # add more images here if you want\n",
    "    # open all the files  (if you add more images, make sure to add them here too)\n",
    "    image1 = Image.open(file1)\n",
    "    image2 = Image.open(file2)\n",
    "    image3 = Image.open(file3)\n",
    "    image4 = Image.open(file4)\n",
    "\n",
    "    # get the width and height in pixels (if you add more images, make sure to add them here too)\n",
    "    (width1, height1) = image1.size\n",
    "    (width2, height2) = image2.size\n",
    "    (width3, height3) = image3.size\n",
    "    (width4, height4) = image4.size\n",
    "\n",
    "    # here you're setting the final image's width and height.\n",
    "    # this one specifically is basically just for a 2x2 grid with all images the same size\n",
    "    result_width = width1+width2\n",
    "    result_height = height1+height2\n",
    "    \n",
    "    # create image base\n",
    "    result = Image.new('RGB', (result_width, result_height))\n",
    "    \n",
    "    # Now the fun part, setting the images. KEY: box=(width, height)\n",
    "    # (if you add more images, make sure to add them here too)\n",
    "    result.paste(im=image1, box=(0, 0))\n",
    "    result.paste(im=image2, box=(width1, 0))\n",
    "    result.paste(im=image3, box=(0, height1))\n",
    "    result.paste(im=image4, box=(width3, height1))\n",
    "    \n",
    "    return result\n",
    "\n",
    "merge(file1,file2,file3,file4)"
   ]
  }
 ],
 "metadata": {
  "kernelspec": {
   "display_name": "Python 3 (ipykernel)",
   "language": "python",
   "name": "python3"
  },
  "language_info": {
   "codemirror_mode": {
    "name": "ipython",
    "version": 3
   },
   "file_extension": ".py",
   "mimetype": "text/x-python",
   "name": "python",
   "nbconvert_exporter": "python",
   "pygments_lexer": "ipython3",
   "version": "3.9.7"
  }
 },
 "nbformat": 4,
 "nbformat_minor": 5
}
